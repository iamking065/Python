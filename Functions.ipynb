{
 "cells": [
  {
   "cell_type": "markdown",
   "id": "bdce1688-f0cd-419c-9725-31c1bbede82a",
   "metadata": {},
   "source": [
    "# Functions"
   ]
  },
  {
   "cell_type": "markdown",
   "id": "810739fc-27d7-4159-abd9-8923a768cdea",
   "metadata": {},
   "source": [
    "* A funtion is block of code which only runs when it is called.\n",
    "* In python function is defined with the 'def' keyword.\n",
    "* Function can accept any number of arguments of any type."
   ]
  },
  {
   "cell_type": "code",
   "execution_count": 2,
   "id": "6b6da477-65a6-44da-bc99-522c0e62dc9e",
   "metadata": {},
   "outputs": [
    {
     "name": "stdout",
     "output_type": "stream",
     "text": [
      "Not part of function\n"
     ]
    }
   ],
   "source": [
    "def tea() :\n",
    "    print(\"Boil water with tea leaves and sugar\")\n",
    "    print(\"Add milk\")\n",
    "    print(\"Let it boil 4-5 times\")\n",
    "print(\"Not part of function\")"
   ]
  },
  {
   "cell_type": "code",
   "execution_count": 4,
   "id": "b77e6c49-e724-422b-9405-a960a5bfa47b",
   "metadata": {},
   "outputs": [
    {
     "name": "stdout",
     "output_type": "stream",
     "text": [
      "Boil water with tea leaves and sugar\n",
      "Add milk\n",
      "Let it boil 4-5 times\n"
     ]
    }
   ],
   "source": [
    "# Calling tea function\n",
    "tea()"
   ]
  },
  {
   "cell_type": "code",
   "execution_count": 5,
   "id": "84aaec1f-da3c-43ce-b040-a92f84ea4f68",
   "metadata": {},
   "outputs": [
    {
     "name": "stdout",
     "output_type": "stream",
     "text": [
      "Boil water with tea leaves and sugar\n",
      "Add milk\n",
      "Let it boil 4-5 times\n",
      "Boil water with tea leaves and sugar\n",
      "Add milk\n",
      "Let it boil 4-5 times\n",
      "Boil water with tea leaves and sugar\n",
      "Add milk\n",
      "Let it boil 4-5 times\n",
      "Boil water with tea leaves and sugar\n",
      "Add milk\n",
      "Let it boil 4-5 times\n",
      "Boil water with tea leaves and sugar\n",
      "Add milk\n",
      "Let it boil 4-5 times\n"
     ]
    }
   ],
   "source": [
    "for i in range(5) :\n",
    "    tea()"
   ]
  },
  {
   "cell_type": "code",
   "execution_count": 18,
   "id": "83e2b417-ba4d-4e29-8497-48d35936295a",
   "metadata": {},
   "outputs": [],
   "source": [
    "def hello(name) :\n",
    "    print(\"Hello\",name)"
   ]
  },
  {
   "cell_type": "code",
   "execution_count": 19,
   "id": "704febd1-64d7-4477-ba5a-17f9dbf98267",
   "metadata": {},
   "outputs": [
    {
     "name": "stdout",
     "output_type": "stream",
     "text": [
      "Hello Lucky\n"
     ]
    }
   ],
   "source": [
    "hello(\"Lucky\")"
   ]
  },
  {
   "cell_type": "code",
   "execution_count": 20,
   "id": "f3c51d28-f110-495d-aa46-4f7f9118f3b4",
   "metadata": {},
   "outputs": [
    {
     "name": "stdout",
     "output_type": "stream",
     "text": [
      "Hello 5\n"
     ]
    }
   ],
   "source": [
    "hello(5)"
   ]
  },
  {
   "cell_type": "code",
   "execution_count": 24,
   "id": "4d695488-b359-4c7d-a331-b7e64b54ea6c",
   "metadata": {},
   "outputs": [],
   "source": [
    "def fight(name, age, villains) :\n",
    "    print(\"Hero name\", name, \"at age\", age , \"was fighting all these villains -\", villains)"
   ]
  },
  {
   "cell_type": "code",
   "execution_count": 26,
   "id": "a8dd4c97-3f24-4ef0-b8de-7bec43d76daf",
   "metadata": {},
   "outputs": [
    {
     "name": "stdout",
     "output_type": "stream",
     "text": [
      "Hero name Spiderman at age 20 was fighting all these villains - ['Vulture', 'Venom', 'Electro']\n"
     ]
    }
   ],
   "source": [
    "fight(\"Spiderman\", 20,[\"Vulture\",\"Venom\",\"Electro\"])"
   ]
  },
  {
   "cell_type": "code",
   "execution_count": 28,
   "id": "5693752b-0bff-4d13-911b-cd8c2ad7b02b",
   "metadata": {},
   "outputs": [],
   "source": [
    "def fight(name, age, villains =[\"Thanos\",\"Ultron\"]) :\n",
    "    print(\"Hero name\", name, \"at age\", age , \"was fighting all these villains -\", villains)"
   ]
  },
  {
   "cell_type": "code",
   "execution_count": 29,
   "id": "1497bb2f-aa60-4487-8806-29fede337052",
   "metadata": {},
   "outputs": [
    {
     "name": "stdout",
     "output_type": "stream",
     "text": [
      "Hero name Spiderman at age 20 was fighting all these villains - ['Thanos', 'Ultron']\n"
     ]
    }
   ],
   "source": [
    "fight(\"Spiderman\",20)"
   ]
  },
  {
   "cell_type": "markdown",
   "id": "2d625f6e-7efb-4691-b832-ee58c604d644",
   "metadata": {},
   "source": [
    "### Return data from a function"
   ]
  },
  {
   "cell_type": "code",
   "execution_count": 32,
   "id": "35f87aac-8037-4a12-98b3-d9d0485ea05b",
   "metadata": {},
   "outputs": [],
   "source": [
    "def cube(x) :\n",
    "    ans = x**2\n",
    "    return ans"
   ]
  },
  {
   "cell_type": "code",
   "execution_count": 33,
   "id": "124afc0c-255d-4bb1-9f07-afb4a48f3f34",
   "metadata": {},
   "outputs": [
    {
     "data": {
      "text/plain": [
       "4"
      ]
     },
     "execution_count": 33,
     "metadata": {},
     "output_type": "execute_result"
    }
   ],
   "source": [
    "cube(2)"
   ]
  },
  {
   "cell_type": "code",
   "execution_count": 34,
   "id": "dab90e1d-1caf-4541-b89b-9439547dd3fa",
   "metadata": {},
   "outputs": [],
   "source": [
    "y=cube(7)"
   ]
  },
  {
   "cell_type": "code",
   "execution_count": 35,
   "id": "5ea3cd27-ade6-4573-9917-a1a08b7f165c",
   "metadata": {},
   "outputs": [
    {
     "data": {
      "text/plain": [
       "49"
      ]
     },
     "execution_count": 35,
     "metadata": {},
     "output_type": "execute_result"
    }
   ],
   "source": [
    "y"
   ]
  },
  {
   "cell_type": "code",
   "execution_count": 36,
   "id": "3e3bfa3b-af52-4d73-8996-c232ccd2184c",
   "metadata": {},
   "outputs": [],
   "source": [
    "z = cube(4)"
   ]
  },
  {
   "cell_type": "code",
   "execution_count": 37,
   "id": "91b2b151-5a65-4bcd-a852-659076176314",
   "metadata": {},
   "outputs": [
    {
     "name": "stdout",
     "output_type": "stream",
     "text": [
      "7 cube + 4 cube 65\n"
     ]
    }
   ],
   "source": [
    "print(\"7 cube + 4 cube\", y+z)"
   ]
  },
  {
   "cell_type": "code",
   "execution_count": 44,
   "id": "6f87a733-8a11-4d04-8238-6796c4a7ba2b",
   "metadata": {},
   "outputs": [],
   "source": [
    "def cube(x) :\n",
    "    ans = x**2\n",
    "    return ans\n",
    "    return Lucky #reduntant code , will never be executed "
   ]
  },
  {
   "cell_type": "code",
   "execution_count": 45,
   "id": "0989eb53-8576-48fb-b46a-901ffb250cef",
   "metadata": {},
   "outputs": [
    {
     "data": {
      "text/plain": [
       "36"
      ]
     },
     "execution_count": 45,
     "metadata": {},
     "output_type": "execute_result"
    }
   ],
   "source": [
    "l=cube(6)\n",
    "l\n"
   ]
  },
  {
   "cell_type": "markdown",
   "id": "359d8891-03c2-410c-a8b2-464852832ebc",
   "metadata": {},
   "source": [
    "### Return as many values as you want"
   ]
  },
  {
   "cell_type": "code",
   "execution_count": 39,
   "id": "884a5f58-9752-491d-9d94-2a2b3e15fdb4",
   "metadata": {},
   "outputs": [],
   "source": [
    "def spiderman():\n",
    "    return \"Peter parker\", 20, \"Tom Holland\""
   ]
  },
  {
   "cell_type": "code",
   "execution_count": 40,
   "id": "6e86e6b5-7b1a-40c4-931d-be3ec0c2730e",
   "metadata": {},
   "outputs": [],
   "source": [
    "name, age, actor =spiderman()"
   ]
  },
  {
   "cell_type": "code",
   "execution_count": 41,
   "id": "49ef34e0-1e63-4739-8cbe-dd0012f4ae64",
   "metadata": {},
   "outputs": [
    {
     "data": {
      "text/plain": [
       "'Peter parker'"
      ]
     },
     "execution_count": 41,
     "metadata": {},
     "output_type": "execute_result"
    }
   ],
   "source": [
    "name"
   ]
  },
  {
   "cell_type": "code",
   "execution_count": 43,
   "id": "68020c85-bb22-485f-b2dc-a8db683bcc66",
   "metadata": {},
   "outputs": [
    {
     "name": "stdout",
     "output_type": "stream",
     "text": [
      "Name = Peter parker\n"
     ]
    }
   ],
   "source": [
    "print(\"Name =\", name)"
   ]
  },
  {
   "cell_type": "markdown",
   "id": "7fd5748f-fbf6-4be9-add9-f5ae48ec9368",
   "metadata": {},
   "source": [
    "### Calling with Keyword pair argument"
   ]
  },
  {
   "cell_type": "code",
   "execution_count": 1,
   "id": "0c478213-44ea-449b-b29f-e4bcfe85b58f",
   "metadata": {},
   "outputs": [],
   "source": [
    "def fight(name, age, villains) :\n",
    "    print(\"Hero name\", name, \"at age\", age , \"was fighting all these villains -\", villains)"
   ]
  },
  {
   "cell_type": "code",
   "execution_count": 3,
   "id": "06259a39-546e-4368-8e79-ade653286306",
   "metadata": {},
   "outputs": [
    {
     "name": "stdout",
     "output_type": "stream",
     "text": [
      "Hero name Spiderman at age 20 was fighting all these villains - ['Vulture', 'Venom', 'Electro']\n"
     ]
    }
   ],
   "source": [
    "fight(name=\"Spiderman\", villains=[\"Vulture\",\"Venom\",\"Electro\"], age=20)"
   ]
  },
  {
   "cell_type": "code",
   "execution_count": 4,
   "id": "e2682954-2071-4002-9beb-46dffeb08dc1",
   "metadata": {},
   "outputs": [],
   "source": [
    "# fight?"
   ]
  },
  {
   "cell_type": "markdown",
   "id": "1ae16f5e-e46d-4979-bb06-196f458ed461",
   "metadata": {},
   "source": [
    "### Call Stack"
   ]
  },
  {
   "cell_type": "code",
   "execution_count": 9,
   "id": "29776475-232c-4349-a9c5-b5a5393e88f5",
   "metadata": {},
   "outputs": [
    {
     "name": "stdout",
     "output_type": "stream",
     "text": [
      "m = 10\n",
      "y = 5\n",
      "m = 10\n",
      "y = 5\n",
      "Hello\n",
      "y = 5\n",
      "m = 10\n"
     ]
    }
   ],
   "source": [
    "m = 10\n",
    "# Global variable \n",
    "# its value can be read inside any function\n",
    "\n",
    "y = 1000\n",
    "    \n",
    "def square(x) :\n",
    "    print(\"m =\" ,m)\n",
    "    global y\n",
    "    y = 5\n",
    "    print(\"y =\" ,y)\n",
    "    return x**2\n",
    "\n",
    "\n",
    "def pythagoras(a,b) :\n",
    "#     a , b are local variable\n",
    "    c2 = square(a) + square(b)\n",
    "    return c2\n",
    "\n",
    "pythagoras(4,5)\n",
    "\n",
    "print(\"Hello\")\n",
    "print(\"y =\" ,y)\n",
    "print(\"m =\" ,m)"
   ]
  },
  {
   "cell_type": "markdown",
   "id": "2765ec54-2f99-42fa-8151-70a86a1867a7",
   "metadata": {},
   "source": [
    "### Map Function"
   ]
  },
  {
   "cell_type": "code",
   "execution_count": 2,
   "id": "3f262e68-4ccc-4441-ad25-5f0ba6908f44",
   "metadata": {},
   "outputs": [],
   "source": [
    "def square(x) :\n",
    "    return x**2\n",
    "\n",
    "a =[5,3,4,2,1]"
   ]
  },
  {
   "cell_type": "markdown",
   "id": "724d8df6-e5ce-49b5-90fe-03f026f536dd",
   "metadata": {},
   "source": [
    "* Genrate a list that contin the square of the number in 'a'\n",
    "* b =[25,9,16,4,1]"
   ]
  },
  {
   "cell_type": "code",
   "execution_count": 4,
   "id": "be469310-daaa-41e5-bd0e-fe80bd40dd04",
   "metadata": {},
   "outputs": [],
   "source": [
    "b=[]\n",
    "\n",
    "for i in a :\n",
    "    b.append(i**2)"
   ]
  },
  {
   "cell_type": "code",
   "execution_count": 5,
   "id": "ba15277f-8966-4b4d-8943-031bcd7886c6",
   "metadata": {},
   "outputs": [
    {
     "data": {
      "text/plain": [
       "[25, 9, 16, 4, 1]"
      ]
     },
     "execution_count": 5,
     "metadata": {},
     "output_type": "execute_result"
    }
   ],
   "source": [
    "b"
   ]
  },
  {
   "cell_type": "code",
   "execution_count": 8,
   "id": "ec221be9-d201-4370-ad8b-245876099a2d",
   "metadata": {},
   "outputs": [],
   "source": [
    "c=[]\n",
    "\n",
    "for x in a :\n",
    "    c.append(square(x))"
   ]
  },
  {
   "cell_type": "code",
   "execution_count": 9,
   "id": "f0c86239-0fa3-4259-acaa-3db582dee3f4",
   "metadata": {},
   "outputs": [
    {
     "data": {
      "text/plain": [
       "[25, 9, 16, 4, 1]"
      ]
     },
     "execution_count": 9,
     "metadata": {},
     "output_type": "execute_result"
    }
   ],
   "source": [
    "c"
   ]
  },
  {
   "cell_type": "markdown",
   "id": "753d2aff-949b-498f-b57d-e94384e5bc87",
   "metadata": {},
   "source": [
    "you want to call a function on all element of an iterable(list,range,tuple,set)."
   ]
  },
  {
   "cell_type": "code",
   "execution_count": 10,
   "id": "f2fb0abc-7f1d-48da-ac12-05d12db4195b",
   "metadata": {},
   "outputs": [],
   "source": [
    "b=list(map(square,a))"
   ]
  },
  {
   "cell_type": "code",
   "execution_count": 11,
   "id": "cfa23a80-f5bd-4f68-85de-ece7503fb96f",
   "metadata": {},
   "outputs": [
    {
     "data": {
      "text/plain": [
       "[25, 9, 16, 4, 1]"
      ]
     },
     "execution_count": 11,
     "metadata": {},
     "output_type": "execute_result"
    }
   ],
   "source": [
    "b"
   ]
  },
  {
   "cell_type": "markdown",
   "id": "e210dd1c-6728-4f35-816b-5e43750556fb",
   "metadata": {},
   "source": [
    "### Lambda Function"
   ]
  },
  {
   "cell_type": "code",
   "execution_count": 12,
   "id": "3262874f-661c-46ec-a3e9-1b3c488f4812",
   "metadata": {},
   "outputs": [],
   "source": [
    "def square(x) :\n",
    "    return x**2\n"
   ]
  },
  {
   "cell_type": "code",
   "execution_count": 13,
   "id": "7073a977-7ac4-45f9-a6f5-f14d83196ebc",
   "metadata": {},
   "outputs": [],
   "source": [
    "square2 = lambda x: x**2"
   ]
  },
  {
   "cell_type": "code",
   "execution_count": 14,
   "id": "9d5acb7a-a7c3-4a76-a267-536f398d2511",
   "metadata": {},
   "outputs": [
    {
     "data": {
      "text/plain": [
       "4"
      ]
     },
     "execution_count": 14,
     "metadata": {},
     "output_type": "execute_result"
    }
   ],
   "source": [
    "square(2)"
   ]
  },
  {
   "cell_type": "code",
   "execution_count": 15,
   "id": "24d80ba4-be3c-4320-8025-8325a875c6a4",
   "metadata": {},
   "outputs": [],
   "source": [
    "multiple = lambda a,b : a*b"
   ]
  },
  {
   "cell_type": "code",
   "execution_count": 16,
   "id": "8c9ce9b8-3a53-4b53-a391-d9cd71bfa030",
   "metadata": {},
   "outputs": [
    {
     "data": {
      "text/plain": [
       "42"
      ]
     },
     "execution_count": 16,
     "metadata": {},
     "output_type": "execute_result"
    }
   ],
   "source": [
    "multiple(6,7)"
   ]
  },
  {
   "cell_type": "code",
   "execution_count": 17,
   "id": "921177f3-1419-4709-af1c-b55044241f67",
   "metadata": {},
   "outputs": [],
   "source": [
    "g = lambda b : (b**2,b+b)"
   ]
  },
  {
   "cell_type": "code",
   "execution_count": 19,
   "id": "2524fc1c-bb62-4720-8502-ef0d9ff27ae6",
   "metadata": {},
   "outputs": [
    {
     "data": {
      "text/plain": [
       "(100, 20)"
      ]
     },
     "execution_count": 19,
     "metadata": {},
     "output_type": "execute_result"
    }
   ],
   "source": [
    "g(10)"
   ]
  },
  {
   "cell_type": "code",
   "execution_count": null,
   "id": "f3aee082-94dc-4016-b29a-0cb993e9e1fa",
   "metadata": {},
   "outputs": [],
   "source": []
  }
 ],
 "metadata": {
  "kernelspec": {
   "display_name": "Python 3 (ipykernel)",
   "language": "python",
   "name": "python3"
  },
  "language_info": {
   "codemirror_mode": {
    "name": "ipython",
    "version": 3
   },
   "file_extension": ".py",
   "mimetype": "text/x-python",
   "name": "python",
   "nbconvert_exporter": "python",
   "pygments_lexer": "ipython3",
   "version": "3.10.9"
  }
 },
 "nbformat": 4,
 "nbformat_minor": 5
}
