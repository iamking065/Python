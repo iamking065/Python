{
 "cells": [
  {
   "cell_type": "markdown",
   "id": "34b9eaa4-3e71-44dd-897d-256fdeade1bf",
   "metadata": {},
   "source": [
    "<h1>Programming Fundamentals - 3</h1>"
   ]
  },
  {
   "cell_type": "markdown",
   "id": "3d69196b-2427-44a9-ba7d-b27845d88ebd",
   "metadata": {},
   "source": [
    "### Break Statement"
   ]
  },
  {
   "cell_type": "code",
   "execution_count": 4,
   "id": "a3976d04-d609-4610-8390-b184548046cf",
   "metadata": {},
   "outputs": [
    {
     "name": "stdout",
     "output_type": "stream",
     "text": [
      "1\n",
      "2\n",
      "3\n"
     ]
    }
   ],
   "source": [
    "i = 1\n",
    "\n",
    "while i <= 5 :\n",
    "    print(i)\n",
    "    i=i+1\n",
    "    if i==4 :\n",
    "        break"
   ]
  },
  {
   "cell_type": "code",
   "execution_count": 5,
   "id": "45b3f03a-8ba7-4aee-8d84-edc50715358f",
   "metadata": {},
   "outputs": [
    {
     "name": "stdout",
     "output_type": "stream",
     "text": [
      "1\n",
      "2\n",
      "3\n"
     ]
    }
   ],
   "source": [
    "for i in range(1,6):\n",
    "    print(i)\n",
    "    if i==3 :\n",
    "        break"
   ]
  },
  {
   "cell_type": "markdown",
   "id": "ca5a4c1f-a871-4025-9d80-ada6ba3b0b88",
   "metadata": {},
   "source": [
    "### Random Game"
   ]
  },
  {
   "cell_type": "markdown",
   "id": "c7d49ed1-cd10-4751-a1ce-ba384e9c6d81",
   "metadata": {},
   "source": [
    "Generate random numbers between 1 to 10 till you get 5."
   ]
  },
  {
   "cell_type": "code",
   "execution_count": 6,
   "id": "d86d95f8-07f5-49dc-9e42-b19dab35ca3d",
   "metadata": {},
   "outputs": [
    {
     "name": "stdout",
     "output_type": "stream",
     "text": [
      "9\n",
      "2\n",
      "3\n",
      "2\n",
      "10\n",
      "7\n",
      "2\n",
      "7\n",
      "8\n",
      "10\n",
      "2\n",
      "3\n",
      "4\n",
      "10\n",
      "8\n",
      "5\n"
     ]
    }
   ],
   "source": [
    "import random\n",
    "\n",
    "while True :\n",
    "     # infinite loop\n",
    "    r=random.randint(1,10)\n",
    "    # it will genrate a random number between and 10.\n",
    "    print(r)\n",
    "    \n",
    "    if r==5 :\n",
    "        break\n",
    "    \n",
    "    "
   ]
  },
  {
   "cell_type": "markdown",
   "id": "cd1026a6-6321-4966-88ee-bd5219b01b54",
   "metadata": {},
   "source": [
    "### Continue  Statement "
   ]
  },
  {
   "cell_type": "markdown",
   "id": "fd72ccb4-7435-41eb-abed-7116eea72fe0",
   "metadata": {},
   "source": [
    "it skips an iteration if condition is True"
   ]
  },
  {
   "cell_type": "code",
   "execution_count": 8,
   "id": "86214fff-c137-4732-80be-0c5e960fd4de",
   "metadata": {},
   "outputs": [
    {
     "name": "stdout",
     "output_type": "stream",
     "text": [
      "2 4 6 8 10 12 14 16 18 20 22 24 26 28 30 32 34 36 38 40 42 44 46 48 50 52 54 56 58 60 62 64 66 68 70 72 74 76 78 80 82 84 86 88 90 92 94 96 98 "
     ]
    }
   ],
   "source": [
    "for i in range(2,100,2) :\n",
    "    print(i , end=' ')"
   ]
  },
  {
   "cell_type": "code",
   "execution_count": 15,
   "id": "ef2b9574-f262-4440-b999-5816a8a5419b",
   "metadata": {},
   "outputs": [
    {
     "name": "stdout",
     "output_type": "stream",
     "text": [
      "2 4 8 10 14 16 20 22 26 28 32 34 38 40 44 46 50 52 56 58 62 64 68 70 74 76 80 82 86 88 92 94 98 "
     ]
    }
   ],
   "source": [
    "for i in range(100) :\n",
    "    # i want to skip all multiple of 3\n",
    "    if i % 2 != 0 or i % 3 == 0:\n",
    "        continue\n",
    "    print(i,end=' ')"
   ]
  },
  {
   "cell_type": "markdown",
   "id": "47f16fd0-94d2-47ae-9e7a-c3c903d4a4a2",
   "metadata": {},
   "source": [
    "### Check Prime"
   ]
  },
  {
   "cell_type": "markdown",
   "id": "d7d0a1a1-721b-409d-887d-a9a2bfa1d59c",
   "metadata": {},
   "source": [
    "given a number check if it is prime. print \"Yes\" if prime, else \"No\""
   ]
  },
  {
   "cell_type": "code",
   "execution_count": 18,
   "id": "a820bf0e-efc0-4ebb-9713-c89580644742",
   "metadata": {},
   "outputs": [
    {
     "name": "stdin",
     "output_type": "stream",
     "text": [
      " 17\n"
     ]
    },
    {
     "name": "stdout",
     "output_type": "stream",
     "text": [
      "Prime Number\n"
     ]
    }
   ],
   "source": [
    "n = int(input())\n",
    "\n",
    "isprime = True\n",
    "# Assuming that the number is prime \n",
    "\n",
    "for i in range(2,n) :\n",
    "    if n % i == 0 :\n",
    "        isprime = False\n",
    "        break\n",
    "if isprime :\n",
    "    print(\"Prime Number\")\n",
    "else :\n",
    "    print(\"Not Prime Number\")"
   ]
  },
  {
   "cell_type": "markdown",
   "id": "cead72c5-4150-440b-8f47-35fb5244dbda",
   "metadata": {},
   "source": [
    "### Swap two numbers"
   ]
  },
  {
   "cell_type": "code",
   "execution_count": 19,
   "id": "c737f557-adbf-45a7-8c3b-5bb4223efffb",
   "metadata": {},
   "outputs": [
    {
     "name": "stdin",
     "output_type": "stream",
     "text": [
      " 5\n",
      " 7\n"
     ]
    }
   ],
   "source": [
    "a = int(input())\n",
    "b = int(input())"
   ]
  },
  {
   "cell_type": "code",
   "execution_count": 20,
   "id": "ada2466f-bdaa-4fa8-9bc8-451095e0dafd",
   "metadata": {},
   "outputs": [],
   "source": [
    "a,b=b,a"
   ]
  },
  {
   "cell_type": "code",
   "execution_count": 21,
   "id": "432370e6-9f71-4bf2-a671-4551b94e2a7f",
   "metadata": {},
   "outputs": [
    {
     "name": "stdout",
     "output_type": "stream",
     "text": [
      "7 5\n"
     ]
    }
   ],
   "source": [
    "print(a,b)"
   ]
  },
  {
   "cell_type": "markdown",
   "id": "eabeb0a1-3ea4-49a6-a93c-553a8fcb864c",
   "metadata": {},
   "source": [
    "### Lists"
   ]
  },
  {
   "cell_type": "code",
   "execution_count": 22,
   "id": "fc5485bf-b90c-4165-9e7f-384b9eccbd05",
   "metadata": {},
   "outputs": [],
   "source": [
    "a = [7,3,2,1,True,76.7,\"Lucky\"]"
   ]
  },
  {
   "cell_type": "code",
   "execution_count": 23,
   "id": "01dfb199-26b1-4171-824d-cdd8255b68be",
   "metadata": {},
   "outputs": [
    {
     "data": {
      "text/plain": [
       "[7, 3, 2, 1, True, 76.7, 'Lucky']"
      ]
     },
     "execution_count": 23,
     "metadata": {},
     "output_type": "execute_result"
    }
   ],
   "source": [
    "a"
   ]
  },
  {
   "cell_type": "code",
   "execution_count": 24,
   "id": "773167d8-7217-4987-84fd-13420ff4a116",
   "metadata": {},
   "outputs": [
    {
     "data": {
      "text/plain": [
       "list"
      ]
     },
     "execution_count": 24,
     "metadata": {},
     "output_type": "execute_result"
    }
   ],
   "source": [
    "type(a)"
   ]
  },
  {
   "cell_type": "code",
   "execution_count": 25,
   "id": "4ea8660d-4bd2-4a94-ad27-9502bce04b8d",
   "metadata": {},
   "outputs": [],
   "source": [
    "b = [1,2,3,[7,8,9]]"
   ]
  },
  {
   "cell_type": "code",
   "execution_count": 26,
   "id": "e6ae40aa-fa54-408c-9087-2e2b6f47d3f7",
   "metadata": {},
   "outputs": [
    {
     "data": {
      "text/plain": [
       "8"
      ]
     },
     "execution_count": 26,
     "metadata": {},
     "output_type": "execute_result"
    }
   ],
   "source": [
    "b[3][1]"
   ]
  },
  {
   "cell_type": "markdown",
   "id": "f3e1873e-7df0-4f3d-823b-00d5250ee884",
   "metadata": {},
   "source": [
    "list is heterogenous and homogenous."
   ]
  },
  {
   "cell_type": "markdown",
   "id": "1a6c23f9-8b56-4a10-af3d-9f7f93483d92",
   "metadata": {},
   "source": [
    "Array must be homogenous."
   ]
  },
  {
   "cell_type": "code",
   "execution_count": 28,
   "id": "bc08b68c-6eb0-42a5-94b8-0860ab441247",
   "metadata": {},
   "outputs": [
    {
     "data": {
      "text/plain": [
       "[1, 2, 3, [7, 8, 9]]"
      ]
     },
     "execution_count": 28,
     "metadata": {},
     "output_type": "execute_result"
    }
   ],
   "source": [
    "b"
   ]
  },
  {
   "cell_type": "code",
   "execution_count": 29,
   "id": "879f1ca4-0c63-4a6a-b01c-7ddce56c673c",
   "metadata": {},
   "outputs": [
    {
     "data": {
      "text/plain": [
       "4"
      ]
     },
     "execution_count": 29,
     "metadata": {},
     "output_type": "execute_result"
    }
   ],
   "source": [
    "len(b)"
   ]
  },
  {
   "cell_type": "code",
   "execution_count": 30,
   "id": "837ea975-dfd0-41aa-b298-0cd7cbe6daa5",
   "metadata": {},
   "outputs": [
    {
     "data": {
      "text/plain": [
       "2"
      ]
     },
     "execution_count": 30,
     "metadata": {},
     "output_type": "execute_result"
    }
   ],
   "source": [
    "b[1]"
   ]
  },
  {
   "cell_type": "code",
   "execution_count": 31,
   "id": "8f12829e-e945-41a3-bf54-00ae2978b1bc",
   "metadata": {},
   "outputs": [],
   "source": [
    "b[1]=88"
   ]
  },
  {
   "cell_type": "code",
   "execution_count": 32,
   "id": "64b712fa-75be-4990-9546-549b75cc6565",
   "metadata": {},
   "outputs": [
    {
     "data": {
      "text/plain": [
       "88"
      ]
     },
     "execution_count": 32,
     "metadata": {},
     "output_type": "execute_result"
    }
   ],
   "source": [
    "b[1]"
   ]
  },
  {
   "cell_type": "code",
   "execution_count": 33,
   "id": "ab789e3e-430a-4874-9e85-245b1b41f2ee",
   "metadata": {},
   "outputs": [],
   "source": [
    "b.append(\"lucky\")"
   ]
  },
  {
   "cell_type": "code",
   "execution_count": 34,
   "id": "6bbae0d6-6f46-4cab-97d5-c10c324e0f69",
   "metadata": {},
   "outputs": [
    {
     "data": {
      "text/plain": [
       "[1, 88, 3, [7, 8, 9], 'lucky']"
      ]
     },
     "execution_count": 34,
     "metadata": {},
     "output_type": "execute_result"
    }
   ],
   "source": [
    "b"
   ]
  },
  {
   "cell_type": "code",
   "execution_count": 35,
   "id": "35bc61b2-df37-41b0-b9a0-43e548f066bb",
   "metadata": {},
   "outputs": [],
   "source": [
    "c = [\"Lucky\" ,\"Samir\" , \"Zeeshan\" , \"Ashad\"]"
   ]
  },
  {
   "cell_type": "code",
   "execution_count": 36,
   "id": "67cd42dc-d0ad-401d-a571-23f3f845cc78",
   "metadata": {},
   "outputs": [],
   "source": [
    "c[0],c[1]=c[2],c[3]"
   ]
  },
  {
   "cell_type": "code",
   "execution_count": 37,
   "id": "aab7b98f-7106-47f8-8451-6aa1d69a3ee0",
   "metadata": {},
   "outputs": [
    {
     "data": {
      "text/plain": [
       "['Zeeshan', 'Ashad', 'Zeeshan', 'Ashad']"
      ]
     },
     "execution_count": 37,
     "metadata": {},
     "output_type": "execute_result"
    }
   ],
   "source": [
    "c"
   ]
  },
  {
   "cell_type": "code",
   "execution_count": 38,
   "id": "ff172c20-24b8-42e8-8842-a1c9ad62f08b",
   "metadata": {},
   "outputs": [],
   "source": [
    "c[0]=\"Lucky\""
   ]
  },
  {
   "cell_type": "code",
   "execution_count": 39,
   "id": "4334f40e-6c93-4fa4-be17-65c401b93c0b",
   "metadata": {},
   "outputs": [
    {
     "data": {
      "text/plain": [
       "['Lucky', 'Ashad', 'Zeeshan', 'Ashad']"
      ]
     },
     "execution_count": 39,
     "metadata": {},
     "output_type": "execute_result"
    }
   ],
   "source": [
    "c"
   ]
  },
  {
   "cell_type": "code",
   "execution_count": 40,
   "id": "751985c0-e174-4b7d-87bb-8ebdc9f0f4cb",
   "metadata": {},
   "outputs": [],
   "source": [
    "c.insert(3,\"jamshed\")"
   ]
  },
  {
   "cell_type": "code",
   "execution_count": 41,
   "id": "48a1692f-eb46-474b-93c1-2d1272af672f",
   "metadata": {},
   "outputs": [
    {
     "data": {
      "text/plain": [
       "['Lucky', 'Ashad', 'Zeeshan', 'jamshed', 'Ashad']"
      ]
     },
     "execution_count": 41,
     "metadata": {},
     "output_type": "execute_result"
    }
   ],
   "source": [
    "c"
   ]
  },
  {
   "cell_type": "code",
   "execution_count": 42,
   "id": "7bf5c87b-0849-4aed-81ef-5ae3ad87eed2",
   "metadata": {},
   "outputs": [
    {
     "data": {
      "text/plain": [
       "'Ashad'"
      ]
     },
     "execution_count": 42,
     "metadata": {},
     "output_type": "execute_result"
    }
   ],
   "source": [
    "c.pop()"
   ]
  },
  {
   "cell_type": "markdown",
   "id": "4b7dde9c-e334-47ba-8bbc-deff1190f826",
   "metadata": {},
   "source": [
    "two way to create empty list"
   ]
  },
  {
   "cell_type": "code",
   "execution_count": 44,
   "id": "37d63dab-54db-4cec-88aa-b0c93c007b9b",
   "metadata": {},
   "outputs": [],
   "source": [
    "g=[]\n",
    "g=list()"
   ]
  },
  {
   "cell_type": "code",
   "execution_count": 45,
   "id": "78ccfaeb-096e-4cca-b6ec-aa9b19384e82",
   "metadata": {},
   "outputs": [
    {
     "data": {
      "text/plain": [
       "[]"
      ]
     },
     "execution_count": 45,
     "metadata": {},
     "output_type": "execute_result"
    }
   ],
   "source": [
    "g"
   ]
  },
  {
   "cell_type": "code",
   "execution_count": 47,
   "id": "bc86112a-845d-482b-b0b7-30c3336da545",
   "metadata": {},
   "outputs": [
    {
     "data": {
      "text/plain": [
       "[0, 1, 2, 3, 4]"
      ]
     },
     "execution_count": 47,
     "metadata": {},
     "output_type": "execute_result"
    }
   ],
   "source": [
    "list(range(5))"
   ]
  },
  {
   "cell_type": "markdown",
   "id": "62c96240-49aa-4f5b-b410-48404ae966e2",
   "metadata": {},
   "source": [
    "### Check if a number is present in list"
   ]
  },
  {
   "cell_type": "code",
   "execution_count": 48,
   "id": "2dc0e0a2-ecb1-4468-8709-0bc6ccbead79",
   "metadata": {},
   "outputs": [
    {
     "name": "stdout",
     "output_type": "stream",
     "text": [
      "Yes\n"
     ]
    }
   ],
   "source": [
    "a=[1,2,3,9,5,6]\n",
    "\n",
    "if 9 in a :\n",
    "    print(\"Yes\")"
   ]
  },
  {
   "cell_type": "code",
   "execution_count": 50,
   "id": "91938cda-e4ff-4009-bb68-f1e3f82c8dac",
   "metadata": {},
   "outputs": [
    {
     "name": "stdout",
     "output_type": "stream",
     "text": [
      "Yes\n"
     ]
    }
   ],
   "source": [
    "for i in a :\n",
    "    if i==9 :\n",
    "        print(\"Yes\")"
   ]
  },
  {
   "cell_type": "markdown",
   "id": "b7ea87a1-93c8-45e7-b0c8-89be37fd1dcf",
   "metadata": {},
   "source": [
    "### Linear Search"
   ]
  },
  {
   "cell_type": "code",
   "execution_count": 51,
   "id": "3fdc6842-f0d1-4349-9d8a-15b837147cca",
   "metadata": {},
   "outputs": [],
   "source": [
    "a = [2,6,9,3,4,1,5]\n",
    "b = 9"
   ]
  },
  {
   "cell_type": "code",
   "execution_count": 53,
   "id": "718124a4-87f2-4cb1-ad22-7c91e5a31b9a",
   "metadata": {},
   "outputs": [
    {
     "data": {
      "text/plain": [
       "['__add__',\n",
       " '__class__',\n",
       " '__class_getitem__',\n",
       " '__contains__',\n",
       " '__delattr__',\n",
       " '__delitem__',\n",
       " '__dir__',\n",
       " '__doc__',\n",
       " '__eq__',\n",
       " '__format__',\n",
       " '__ge__',\n",
       " '__getattribute__',\n",
       " '__getitem__',\n",
       " '__gt__',\n",
       " '__hash__',\n",
       " '__iadd__',\n",
       " '__imul__',\n",
       " '__init__',\n",
       " '__init_subclass__',\n",
       " '__iter__',\n",
       " '__le__',\n",
       " '__len__',\n",
       " '__lt__',\n",
       " '__mul__',\n",
       " '__ne__',\n",
       " '__new__',\n",
       " '__reduce__',\n",
       " '__reduce_ex__',\n",
       " '__repr__',\n",
       " '__reversed__',\n",
       " '__rmul__',\n",
       " '__setattr__',\n",
       " '__setitem__',\n",
       " '__sizeof__',\n",
       " '__str__',\n",
       " '__subclasshook__',\n",
       " 'append',\n",
       " 'clear',\n",
       " 'copy',\n",
       " 'count',\n",
       " 'extend',\n",
       " 'index',\n",
       " 'insert',\n",
       " 'pop',\n",
       " 'remove',\n",
       " 'reverse',\n",
       " 'sort']"
      ]
     },
     "execution_count": 53,
     "metadata": {},
     "output_type": "execute_result"
    }
   ],
   "source": [
    "dir(a)"
   ]
  },
  {
   "cell_type": "code",
   "execution_count": 52,
   "id": "b30a162f-a730-419a-a0fa-289496beebb4",
   "metadata": {},
   "outputs": [
    {
     "name": "stdout",
     "output_type": "stream",
     "text": [
      "2\n"
     ]
    }
   ],
   "source": [
    "#  function\n",
    "print(a.index(b))"
   ]
  },
  {
   "cell_type": "code",
   "execution_count": 56,
   "id": "b0c74514-89e0-45a5-b1b6-efb701c4db38",
   "metadata": {},
   "outputs": [
    {
     "name": "stdout",
     "output_type": "stream",
     "text": [
      "2\n"
     ]
    }
   ],
   "source": [
    "# without Function\n",
    "# find the index of 'b' in 'a'\n",
    "\n",
    "for i in range(len(a)) :\n",
    "    if a[i]==b :\n",
    "        print(i)\n",
    "        break"
   ]
  },
  {
   "cell_type": "markdown",
   "id": "de6a39f3-eb72-4c80-a4cb-d7537dcb5b9b",
   "metadata": {},
   "source": [
    "### Step 1: Read the Input and split it."
   ]
  },
  {
   "cell_type": "code",
   "execution_count": 57,
   "id": "241b5c6b-0ee6-4373-8af9-9e7fce388715",
   "metadata": {},
   "outputs": [
    {
     "name": "stdin",
     "output_type": "stream",
     "text": [
      " 10 20 30 40\n"
     ]
    }
   ],
   "source": [
    "a = input()"
   ]
  },
  {
   "cell_type": "code",
   "execution_count": 58,
   "id": "01963241-2981-41f8-b5b9-3bd404fb1bf0",
   "metadata": {},
   "outputs": [
    {
     "data": {
      "text/plain": [
       "'10 20 30 40'"
      ]
     },
     "execution_count": 58,
     "metadata": {},
     "output_type": "execute_result"
    }
   ],
   "source": [
    "a"
   ]
  },
  {
   "cell_type": "code",
   "execution_count": 61,
   "id": "fa32478d-c1ad-45ce-80cc-d440a6595e27",
   "metadata": {},
   "outputs": [],
   "source": [
    "b = a.split()\n",
    "\n",
    "# return a lsit of entries seprated by spaces"
   ]
  },
  {
   "cell_type": "code",
   "execution_count": 62,
   "id": "1821c8b5-b69d-4f05-90e7-2313f593b9e2",
   "metadata": {},
   "outputs": [
    {
     "data": {
      "text/plain": [
       "['10', '20', '30', '40']"
      ]
     },
     "execution_count": 62,
     "metadata": {},
     "output_type": "execute_result"
    }
   ],
   "source": [
    "b"
   ]
  },
  {
   "cell_type": "code",
   "execution_count": 63,
   "id": "dbb345d6-1b06-4dcc-84fb-cb793363a77e",
   "metadata": {},
   "outputs": [
    {
     "data": {
      "text/plain": [
       "list"
      ]
     },
     "execution_count": 63,
     "metadata": {},
     "output_type": "execute_result"
    }
   ],
   "source": [
    "type(b)"
   ]
  },
  {
   "cell_type": "code",
   "execution_count": 64,
   "id": "88bd0726-d7aa-4114-a473-73153fa88c2c",
   "metadata": {},
   "outputs": [
    {
     "data": {
      "text/plain": [
       "str"
      ]
     },
     "execution_count": 64,
     "metadata": {},
     "output_type": "execute_result"
    }
   ],
   "source": [
    "type(b[0])"
   ]
  },
  {
   "cell_type": "code",
   "execution_count": 65,
   "id": "738b0b8b-31e7-4343-b431-cd7f714577ec",
   "metadata": {},
   "outputs": [
    {
     "name": "stdout",
     "output_type": "stream",
     "text": [
      "<class 'int'>\n"
     ]
    }
   ],
   "source": [
    "x = int(\"97\")\n",
    "print(type(x))"
   ]
  },
  {
   "cell_type": "markdown",
   "id": "77f4d3ed-397f-479e-9d45-13bf004ec816",
   "metadata": {},
   "source": [
    "### Step 2: itrate over the split list and use 'int' function on each entry"
   ]
  },
  {
   "cell_type": "code",
   "execution_count": 69,
   "id": "734d661c-b0f2-4ac8-94f9-45892e12a762",
   "metadata": {},
   "outputs": [],
   "source": [
    "for i in range(len(b)) :\n",
    "    b[i]=int(b[i])"
   ]
  },
  {
   "cell_type": "code",
   "execution_count": 70,
   "id": "7a2531d7-7ec0-484d-b9d0-472072e498a3",
   "metadata": {},
   "outputs": [
    {
     "data": {
      "text/plain": [
       "[10, 20, 30, 40]"
      ]
     },
     "execution_count": 70,
     "metadata": {},
     "output_type": "execute_result"
    }
   ],
   "source": [
    "b"
   ]
  },
  {
   "cell_type": "code",
   "execution_count": 71,
   "id": "1fcebae5-2f72-4f6c-b3c8-f98b5a24d6de",
   "metadata": {},
   "outputs": [
    {
     "data": {
      "text/plain": [
       "int"
      ]
     },
     "execution_count": 71,
     "metadata": {},
     "output_type": "execute_result"
    }
   ],
   "source": [
    "type(b[0])"
   ]
  },
  {
   "cell_type": "code",
   "execution_count": 72,
   "id": "75352052-3e81-4310-b6b3-86534666c95a",
   "metadata": {},
   "outputs": [
    {
     "data": {
      "text/plain": [
       "[10, 20, 30, 40]"
      ]
     },
     "execution_count": 72,
     "metadata": {},
     "output_type": "execute_result"
    }
   ],
   "source": [
    "b"
   ]
  },
  {
   "cell_type": "code",
   "execution_count": 74,
   "id": "16deab85-7e92-4351-b237-fe7d84e7f3b3",
   "metadata": {},
   "outputs": [
    {
     "name": "stdout",
     "output_type": "stream",
     "text": [
      "100\n",
      "400\n",
      "900\n",
      "1600\n"
     ]
    }
   ],
   "source": [
    "for i in b :\n",
    "    print(i**2)"
   ]
  }
 ],
 "metadata": {
  "kernelspec": {
   "display_name": "Python 3 (ipykernel)",
   "language": "python",
   "name": "python3"
  },
  "language_info": {
   "codemirror_mode": {
    "name": "ipython",
    "version": 3
   },
   "file_extension": ".py",
   "mimetype": "text/x-python",
   "name": "python",
   "nbconvert_exporter": "python",
   "pygments_lexer": "ipython3",
   "version": "3.10.9"
  }
 },
 "nbformat": 4,
 "nbformat_minor": 5
}
