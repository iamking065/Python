{
 "cells": [
  {
   "cell_type": "markdown",
   "id": "8291286b-7302-427f-8251-da565a1c9b6c",
   "metadata": {},
   "source": [
    "<h1>Programming Fundamentals - 1 : Intro to Python"
   ]
  },
  {
   "cell_type": "markdown",
   "id": "7a747915-7353-4d04-9154-15054903732f",
   "metadata": {},
   "source": [
    "<h3>Hello World</h3>"
   ]
  },
  {
   "cell_type": "code",
   "execution_count": 1,
   "id": "dc0df213-6e87-469b-802e-df2974119ebc",
   "metadata": {},
   "outputs": [
    {
     "name": "stdout",
     "output_type": "stream",
     "text": [
      "Hello World\n"
     ]
    }
   ],
   "source": [
    "print(\"Hello World\")"
   ]
  },
  {
   "cell_type": "code",
   "execution_count": 2,
   "id": "bf92d38a-6955-4bb2-8aed-8d69b2cb8971",
   "metadata": {},
   "outputs": [
    {
     "name": "stdout",
     "output_type": "stream",
     "text": [
      "7\n"
     ]
    }
   ],
   "source": [
    "print(5+2)"
   ]
  },
  {
   "cell_type": "code",
   "execution_count": 3,
   "id": "a14c752f-7a97-475c-b484-4479c1d1a687",
   "metadata": {},
   "outputs": [
    {
     "name": "stdout",
     "output_type": "stream",
     "text": [
      "Good Night\n"
     ]
    }
   ],
   "source": [
    "print('Good Night')"
   ]
  },
  {
   "cell_type": "markdown",
   "id": "05fc212f-398a-45fe-b105-0e949f1d6352",
   "metadata": {},
   "source": [
    "<h3>Simple Intrest</h3>"
   ]
  },
  {
   "cell_type": "code",
   "execution_count": 9,
   "id": "c73dbe38-e78b-4bfc-8522-07517c67643b",
   "metadata": {},
   "outputs": [
    {
     "name": "stdout",
     "output_type": "stream",
     "text": [
      "Simple Intrest is 10.0\n"
     ]
    }
   ],
   "source": [
    "p=100\n",
    "r=5\n",
    "t=2\n",
    "\n",
    "si=(p*r*t)/100\n",
    "\n",
    "print(\"Simple Intrest is\", si)"
   ]
  },
  {
   "cell_type": "markdown",
   "id": "c970a84e-897b-4513-bb38-2f239a8ff743",
   "metadata": {},
   "source": [
    "<h3>Input</h3>"
   ]
  },
  {
   "cell_type": "markdown",
   "id": "2a118bfa-509e-4407-a61b-f51ed01b9180",
   "metadata": {},
   "source": [
    "Take the name of the user as input. And Say Hello to them"
   ]
  },
  {
   "cell_type": "code",
   "execution_count": 1,
   "id": "83df9af5-96a2-4830-9d00-b26dd829fdd2",
   "metadata": {},
   "outputs": [
    {
     "name": "stdin",
     "output_type": "stream",
     "text": [
      " Lucky Parwez\n"
     ]
    }
   ],
   "source": [
    "name = input()"
   ]
  },
  {
   "cell_type": "code",
   "execution_count": 2,
   "id": "98f380ad-f79e-48ea-bfa8-559ecf25d6f3",
   "metadata": {},
   "outputs": [
    {
     "name": "stdout",
     "output_type": "stream",
     "text": [
      "Hello Lucky Parwez\n"
     ]
    }
   ],
   "source": [
    "print(\"Hello\",name)"
   ]
  },
  {
   "cell_type": "code",
   "execution_count": 18,
   "id": "bf4f8f4b-1d57-431a-9764-1f6cafd31b65",
   "metadata": {},
   "outputs": [
    {
     "name": "stdin",
     "output_type": "stream",
     "text": [
      " Lucky\n",
      " Samir\n",
      " Zeeshan\n"
     ]
    }
   ],
   "source": [
    "name1=input()\n",
    "name2=input()\n",
    "name3=input()"
   ]
  },
  {
   "cell_type": "code",
   "execution_count": 19,
   "id": "ef31a058-e90a-40a0-9d8a-fa6cbe189eb5",
   "metadata": {},
   "outputs": [
    {
     "name": "stdout",
     "output_type": "stream",
     "text": [
      "Lucky Samir Zeeshan\n"
     ]
    }
   ],
   "source": [
    "print(name1,name2,name3)"
   ]
  },
  {
   "cell_type": "code",
   "execution_count": 20,
   "id": "c7de5013-3e57-45b1-b4ef-8cd556d482ae",
   "metadata": {},
   "outputs": [
    {
     "name": "stdin",
     "output_type": "stream",
     "text": [
      " Lucky\n"
     ]
    },
    {
     "name": "stdout",
     "output_type": "stream",
     "text": [
      "Hello Lucky\n"
     ]
    }
   ],
   "source": [
    "print(\"Hello\",input())"
   ]
  },
  {
   "cell_type": "code",
   "execution_count": 22,
   "id": "71eb3543-4493-4563-badb-c88a39d9d60e",
   "metadata": {},
   "outputs": [
    {
     "name": "stdout",
     "output_type": "stream",
     "text": [
      "clark kent's awesome\n"
     ]
    }
   ],
   "source": [
    "print('clark kent\\'s awesome')\n",
    "\n",
    "# Backslash(\\) is Known as the 'escape character'"
   ]
  },
  {
   "cell_type": "markdown",
   "id": "7bc351c4-fff5-49f9-a781-b95d695de877",
   "metadata": {},
   "source": [
    "<h3>Data Types</h3>"
   ]
  },
  {
   "cell_type": "markdown",
   "id": "7740f0ad-4ed0-41f7-b799-6576caf04729",
   "metadata": {},
   "source": [
    "<ul>\n",
    "    <li>Integer - int</li>\n",
    "    <li>Floating Point number - float</li>\n",
    "    <li>String - str</li>\n",
    "    <li>Boolean Type - bool</li>\n",
    "    <li>NoneType</li>\n",
    "</ul>"
   ]
  },
  {
   "cell_type": "raw",
   "id": "e225b5e2-d59c-48f9-a254-b014c69470a9",
   "metadata": {},
   "source": [
    "a=100"
   ]
  },
  {
   "cell_type": "code",
   "execution_count": 24,
   "id": "4bb2041c-4420-43ad-a3a8-4574f388f497",
   "metadata": {},
   "outputs": [
    {
     "name": "stdout",
     "output_type": "stream",
     "text": [
      "<class 'int'>\n"
     ]
    }
   ],
   "source": [
    "print(type(a))"
   ]
  },
  {
   "cell_type": "code",
   "execution_count": 25,
   "id": "7b0fafbe-c91f-4287-8c49-124bfdf7634e",
   "metadata": {},
   "outputs": [],
   "source": [
    "b=123.234"
   ]
  },
  {
   "cell_type": "code",
   "execution_count": 26,
   "id": "9966058c-4111-4de6-a59e-d61c5798026e",
   "metadata": {},
   "outputs": [
    {
     "name": "stdout",
     "output_type": "stream",
     "text": [
      "<class 'float'>\n"
     ]
    }
   ],
   "source": [
    "print(type(b))"
   ]
  },
  {
   "cell_type": "code",
   "execution_count": 27,
   "id": "2fbea50a-feba-400d-b6e1-8e3f159485c1",
   "metadata": {},
   "outputs": [],
   "source": [
    "c=\"Hello World\""
   ]
  },
  {
   "cell_type": "code",
   "execution_count": 28,
   "id": "bb51fbbc-5d90-41b0-bbaf-15788200bdca",
   "metadata": {},
   "outputs": [
    {
     "name": "stdout",
     "output_type": "stream",
     "text": [
      "<class 'str'>\n"
     ]
    }
   ],
   "source": [
    "print(type(c))"
   ]
  },
  {
   "cell_type": "code",
   "execution_count": 32,
   "id": "63df551d-306d-4af0-967d-8018148c9d6e",
   "metadata": {},
   "outputs": [],
   "source": [
    "d='h'"
   ]
  },
  {
   "cell_type": "code",
   "execution_count": 33,
   "id": "990d999b-c964-4eed-ab1b-3d27ba34abce",
   "metadata": {},
   "outputs": [
    {
     "name": "stdout",
     "output_type": "stream",
     "text": [
      "<class 'str'>\n"
     ]
    }
   ],
   "source": [
    "print(type(d))"
   ]
  },
  {
   "cell_type": "code",
   "execution_count": 34,
   "id": "42405daa-9a38-4aff-927c-d57684e00e88",
   "metadata": {},
   "outputs": [],
   "source": [
    "e=True"
   ]
  },
  {
   "cell_type": "code",
   "execution_count": 35,
   "id": "6bc43ba9-d65c-4711-a0e6-bb48694f8107",
   "metadata": {},
   "outputs": [
    {
     "name": "stdout",
     "output_type": "stream",
     "text": [
      "<class 'bool'>\n"
     ]
    }
   ],
   "source": [
    "print(type(e))"
   ]
  },
  {
   "cell_type": "markdown",
   "id": "31380b00-2807-4b20-9702-95c63c3d026b",
   "metadata": {},
   "source": [
    "True/False are Boolean."
   ]
  },
  {
   "cell_type": "code",
   "execution_count": 37,
   "id": "deb12166-0720-4c8f-a0b5-9b4545bb8e7e",
   "metadata": {},
   "outputs": [],
   "source": [
    "g=None\n",
    "\n",
    "# None denotes NULL value."
   ]
  },
  {
   "cell_type": "code",
   "execution_count": 38,
   "id": "0427bd0e-3415-466b-9568-1aa3cec4b4f5",
   "metadata": {},
   "outputs": [
    {
     "name": "stdout",
     "output_type": "stream",
     "text": [
      "<class 'NoneType'>\n"
     ]
    }
   ],
   "source": [
    "print(type(g))"
   ]
  },
  {
   "cell_type": "code",
   "execution_count": 39,
   "id": "a065f058-f1da-4271-8ae6-d1bd36f002ed",
   "metadata": {},
   "outputs": [
    {
     "name": "stdout",
     "output_type": "stream",
     "text": [
      "None\n"
     ]
    }
   ],
   "source": [
    "print(g)"
   ]
  },
  {
   "cell_type": "raw",
   "id": "cf862a51-5ae9-4c5b-8e64-6f6ec658112e",
   "metadata": {},
   "source": [
    "variable name must always begin with a character or underscoper and $.\n",
    "\n",
    "variable name are case sensitive.\n",
    "special characters are not allowed in naming variables (underscore is a exception).\n",
    "\n",
    "name1\n",
    "\n",
    "name-1  # not allowed\n",
    "\n",
    "name_1  # allowed"
   ]
  },
  {
   "cell_type": "markdown",
   "id": "a46de2d6-411f-4acb-888d-5195dbbe6190",
   "metadata": {},
   "source": [
    "<h3>Typecasting</h3>"
   ]
  },
  {
   "cell_type": "code",
   "execution_count": 43,
   "id": "179e9d0e-22cc-4954-aa30-e33763bf3af1",
   "metadata": {},
   "outputs": [],
   "source": [
    "f=7.4"
   ]
  },
  {
   "cell_type": "markdown",
   "id": "43e959d2-dca8-4d70-80c9-40ae7f2cf45e",
   "metadata": {},
   "source": [
    "Convert this float number to an integer\n",
    "\n",
    "7.4 --> 7"
   ]
  },
  {
   "cell_type": "code",
   "execution_count": 44,
   "id": "c82019bb-b6f6-4435-a2d1-ddf1229cfc32",
   "metadata": {},
   "outputs": [],
   "source": [
    "i=int(f)"
   ]
  },
  {
   "cell_type": "code",
   "execution_count": 45,
   "id": "08d8a37b-90e8-44b4-9d68-be66cae642f2",
   "metadata": {},
   "outputs": [
    {
     "name": "stdout",
     "output_type": "stream",
     "text": [
      "7 <class 'int'>\n"
     ]
    }
   ],
   "source": [
    "print(i,type(i))"
   ]
  },
  {
   "cell_type": "code",
   "execution_count": 47,
   "id": "d1a13957-2bb5-40ea-93cf-aa03f17a27f6",
   "metadata": {},
   "outputs": [],
   "source": [
    "name=\"Lucky\""
   ]
  },
  {
   "cell_type": "code",
   "execution_count": 57,
   "id": "d7b588b4-100e-47fd-9ae1-03e48b62cfe7",
   "metadata": {},
   "outputs": [
    {
     "ename": "ValueError",
     "evalue": "invalid literal for int() with base 10: 'Lucky'",
     "output_type": "error",
     "traceback": [
      "\u001b[1;31m---------------------------------------------------------------------------\u001b[0m",
      "\u001b[1;31mValueError\u001b[0m                                Traceback (most recent call last)",
      "Cell \u001b[1;32mIn[57], line 1\u001b[0m\n\u001b[1;32m----> 1\u001b[0m number\u001b[38;5;241m=\u001b[39m\u001b[38;5;28;43mint\u001b[39;49m\u001b[43m(\u001b[49m\u001b[43mname\u001b[49m\u001b[43m)\u001b[49m\n",
      "\u001b[1;31mValueError\u001b[0m: invalid literal for int() with base 10: 'Lucky'"
     ]
    }
   ],
   "source": [
    "number=int(name)\n",
    "\n",
    "# we can typecasting to the string for valid string\n",
    "# String to int and int to string are possible for valid value"
   ]
  },
  {
   "cell_type": "code",
   "execution_count": 53,
   "id": "756977fd-04d7-494e-8614-84fbe34daf6b",
   "metadata": {},
   "outputs": [],
   "source": [
    "s=\"432\""
   ]
  },
  {
   "cell_type": "code",
   "execution_count": 54,
   "id": "e6650f1e-18e7-452c-8563-975ea9741b55",
   "metadata": {},
   "outputs": [
    {
     "name": "stdout",
     "output_type": "stream",
     "text": [
      "<class 'str'>\n"
     ]
    }
   ],
   "source": [
    "print(type(s))"
   ]
  },
  {
   "cell_type": "code",
   "execution_count": 55,
   "id": "5d735f2c-49cb-4f17-ab40-0dbf7cf0dfb7",
   "metadata": {},
   "outputs": [],
   "source": [
    "i=int(s)"
   ]
  },
  {
   "cell_type": "code",
   "execution_count": 58,
   "id": "734cb521-50a9-4954-bebe-415eb6dc9765",
   "metadata": {},
   "outputs": [
    {
     "name": "stdout",
     "output_type": "stream",
     "text": [
      "<class 'int'>\n"
     ]
    }
   ],
   "source": [
    "print(type(i))"
   ]
  },
  {
   "cell_type": "code",
   "execution_count": 60,
   "id": "94ab2abf-d5b2-450a-a3d6-3f8ea4e546ee",
   "metadata": {},
   "outputs": [],
   "source": [
    "a=int(float(\"1.2\"))\n",
    "            \n",
    "# a=int(1.2)"
   ]
  },
  {
   "cell_type": "markdown",
   "id": "3579970e-d0a7-49d1-8bea-f101e3c6ef13",
   "metadata": {},
   "source": [
    "<h3>Range of number</h3>"
   ]
  },
  {
   "cell_type": "markdown",
   "id": "ec3c88a5-123c-46f7-9ab4-5330773ca597",
   "metadata": {},
   "source": [
    "python doesn't have any range on its number"
   ]
  },
  {
   "cell_type": "markdown",
   "id": "12e4a1a1-3517-4f04-a1bb-c5492691608d",
   "metadata": {},
   "source": [
    "<h3>Operators</h3>"
   ]
  },
  {
   "cell_type": "code",
   "execution_count": 70,
   "id": "9f047253-3920-4e26-8f55-ab49735207d5",
   "metadata": {},
   "outputs": [],
   "source": [
    "a= 5 + 3  #Addition    -> 8\n",
    "b= 4 - 2  #Substraction  -> 2\n",
    "c= 5 * 2  #Multiplication -> 10\n",
    "d= 5 / 2  #Division -> 2.5\n",
    "e= 5 // 2 #Division...... but only integer part we get  -> 2\n",
    "f= 5 //2  #Modulo.......we get reminder here -> 1"
   ]
  },
  {
   "cell_type": "code",
   "execution_count": 71,
   "id": "4b80a6c7-e3cb-4ee2-974c-5addd1e78a78",
   "metadata": {},
   "outputs": [],
   "source": [
    "g=5**2 #power operator/Exponent "
   ]
  },
  {
   "cell_type": "raw",
   "id": "b4464e0c-ab45-47fd-a8cd-ab0ad10b69fc",
   "metadata": {},
   "source": []
  },
  {
   "cell_type": "code",
   "execution_count": 72,
   "id": "60664e7a-92e8-43ca-b15d-f1249d52caab",
   "metadata": {},
   "outputs": [
    {
     "data": {
      "text/plain": [
       "25"
      ]
     },
     "execution_count": 72,
     "metadata": {},
     "output_type": "execute_result"
    }
   ],
   "source": [
    "g"
   ]
  },
  {
   "cell_type": "code",
   "execution_count": 74,
   "id": "9cd322fb-019f-458a-b618-abd2cfb5582c",
   "metadata": {},
   "outputs": [
    {
     "data": {
      "text/plain": [
       "10.0"
      ]
     },
     "execution_count": 74,
     "metadata": {},
     "output_type": "execute_result"
    }
   ],
   "source": [
    "100**(1/2)  # square root"
   ]
  }
 ],
 "metadata": {
  "kernelspec": {
   "display_name": "Python 3 (ipykernel)",
   "language": "python",
   "name": "python3"
  },
  "language_info": {
   "codemirror_mode": {
    "name": "ipython",
    "version": 3
   },
   "file_extension": ".py",
   "mimetype": "text/x-python",
   "name": "python",
   "nbconvert_exporter": "python",
   "pygments_lexer": "ipython3",
   "version": "3.10.9"
  }
 },
 "nbformat": 4,
 "nbformat_minor": 5
}
