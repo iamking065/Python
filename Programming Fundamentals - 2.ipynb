{
 "cells": [
  {
   "cell_type": "markdown",
   "id": "03a7ca5e-974d-4508-bfe0-444b65106439",
   "metadata": {},
   "source": [
    "<h1>Programming Fundamentals - 2</h1>"
   ]
  },
  {
   "cell_type": "markdown",
   "id": "4ecf451b-1c74-49e8-9dd0-c3d23af7872b",
   "metadata": {},
   "source": [
    "<h3>Print statement - args, end, sep</h3>"
   ]
  },
  {
   "cell_type": "code",
   "execution_count": 4,
   "id": "567629f2-ceee-477a-aeda-ff7ab8f69c51",
   "metadata": {},
   "outputs": [
    {
     "name": "stdout",
     "output_type": "stream",
     "text": [
      "Hello World\n"
     ]
    }
   ],
   "source": [
    "print(\"Hello World\")"
   ]
  },
  {
   "cell_type": "code",
   "execution_count": 10,
   "id": "e8063ad0-6dee-46bf-8134-dee22961df19",
   "metadata": {},
   "outputs": [
    {
     "name": "stdout",
     "output_type": "stream",
     "text": [
      "Hellow+()*World+()*Hi+()* there@@@Hellow+()*World+()*Hi+()* therePython is amazing\n"
     ]
    }
   ],
   "source": [
    "# By Default the value of sep=' '\n",
    "# By Default the value of end='\\n'\n",
    "# print(\"Hellow\", \"World\", \"Hi\", \" there\", sep='+()*', end='\\n')\n",
    "# If end is empyty the no space between two line \n",
    "\n",
    "print(\"Hellow\", \"World\", \"Hi\", \" there\", sep='+()*', end='@@@')\n",
    "print(\"Hellow\", \"World\", \"Hi\", \" there\", sep='+()*', end='')\n",
    "print(\"Python is amazing\")"
   ]
  },
  {
   "cell_type": "markdown",
   "id": "c2dc2437-140f-48cc-ba79-7888e6790da8",
   "metadata": {},
   "source": [
    "<h3>Multiline Strings</h3>"
   ]
  },
  {
   "cell_type": "code",
   "execution_count": 14,
   "id": "bad9a7d5-bf35-434d-a279-7345f64611a3",
   "metadata": {},
   "outputs": [],
   "source": [
    "s1=\"Hello World\"\n",
    "s2='Hello World'"
   ]
  },
  {
   "cell_type": "code",
   "execution_count": 18,
   "id": "e7c85394-253e-428f-890a-f0c766c2c7e4",
   "metadata": {},
   "outputs": [
    {
     "name": "stdout",
     "output_type": "stream",
     "text": [
      "Hello World Hello World <class 'str'> <class 'str'>\n"
     ]
    }
   ],
   "source": [
    "print(s1, s2, type(s1), type(s2))"
   ]
  },
  {
   "cell_type": "code",
   "execution_count": 26,
   "id": "79612574-78c2-4568-a6cd-0b1d7b196bf7",
   "metadata": {},
   "outputs": [],
   "source": [
    "s3='''Sed ut perspiciatis unde omnis iste natus error sit voluptatem accusantium doloremque laudantium, totam rem aperiam, eaque ipsa quae ab illo inventore veritatis et quasi architecto beatae vitae dicta sunt explicabo. Nemo enim ipsam voluptatem quia voluptas sit aspernatur aut odit aut fugit, sed quia consequuntur magni dolores eos qui ratione voluptatem sequi nesciunt. Neque porro quisquam est, qui dolorem ipsum quia dolor sit amet, consectetur, adipisci velit, sed quia non numquam eius modi tempora incidunt ut labore et dolore magnam aliquam quaerat voluptatem. Ut enim ad minima veniam, quis nostrum exercitationem ullam corporis suscipit laboriosam, nisi ut aliquid ex ea commodi consequatur? Quis autem vel eum iure reprehenderit qui in ea voluptate velit esse quam nihil molestiae consequatur, vel illum qui dolorem eum fugiat quo voluptas nulla pariatur?\n",
    "\n",
    "1914 translation by H. Rackham'''"
   ]
  },
  {
   "cell_type": "code",
   "execution_count": 27,
   "id": "d2490ad2-7009-49be-9a7d-9ddb6d6abc52",
   "metadata": {},
   "outputs": [
    {
     "data": {
      "text/plain": [
       "'Sed ut perspiciatis unde omnis iste natus error sit voluptatem accusantium doloremque laudantium, totam rem aperiam, eaque ipsa quae ab illo inventore veritatis et quasi architecto beatae vitae dicta sunt explicabo. Nemo enim ipsam voluptatem quia voluptas sit aspernatur aut odit aut fugit, sed quia consequuntur magni dolores eos qui ratione voluptatem sequi nesciunt. Neque porro quisquam est, qui dolorem ipsum quia dolor sit amet, consectetur, adipisci velit, sed quia non numquam eius modi tempora incidunt ut labore et dolore magnam aliquam quaerat voluptatem. Ut enim ad minima veniam, quis nostrum exercitationem ullam corporis suscipit laboriosam, nisi ut aliquid ex ea commodi consequatur? Quis autem vel eum iure reprehenderit qui in ea voluptate velit esse quam nihil molestiae consequatur, vel illum qui dolorem eum fugiat quo voluptas nulla pariatur?\\n\\n1914 translation by H. Rackham'"
      ]
     },
     "execution_count": 27,
     "metadata": {},
     "output_type": "execute_result"
    }
   ],
   "source": [
    "s3"
   ]
  },
  {
   "cell_type": "code",
   "execution_count": 28,
   "id": "d7f75eb3-c8c1-4278-a298-2c603741b22b",
   "metadata": {},
   "outputs": [
    {
     "name": "stdout",
     "output_type": "stream",
     "text": [
      "Sed ut perspiciatis unde omnis iste natus error sit voluptatem accusantium doloremque laudantium, totam rem aperiam, eaque ipsa quae ab illo inventore veritatis et quasi architecto beatae vitae dicta sunt explicabo. Nemo enim ipsam voluptatem quia voluptas sit aspernatur aut odit aut fugit, sed quia consequuntur magni dolores eos qui ratione voluptatem sequi nesciunt. Neque porro quisquam est, qui dolorem ipsum quia dolor sit amet, consectetur, adipisci velit, sed quia non numquam eius modi tempora incidunt ut labore et dolore magnam aliquam quaerat voluptatem. Ut enim ad minima veniam, quis nostrum exercitationem ullam corporis suscipit laboriosam, nisi ut aliquid ex ea commodi consequatur? Quis autem vel eum iure reprehenderit qui in ea voluptate velit esse quam nihil molestiae consequatur, vel illum qui dolorem eum fugiat quo voluptas nulla pariatur?\n",
      "\n",
      "1914 translation by H. Rackham\n"
     ]
    }
   ],
   "source": [
    "print(s3)"
   ]
  },
  {
   "cell_type": "markdown",
   "id": "ef4052a5-bdc6-4e0c-8054-05a6a2ed943d",
   "metadata": {},
   "source": [
    "<h3>Branching</h3>"
   ]
  },
  {
   "cell_type": "code",
   "execution_count": 1,
   "id": "cb0d1d65-2388-47fc-a4eb-d20b146ab59a",
   "metadata": {},
   "outputs": [],
   "source": [
    "age=10"
   ]
  },
  {
   "cell_type": "code",
   "execution_count": 3,
   "id": "2bc9fa54-15eb-4973-8729-ef8124be4ecd",
   "metadata": {},
   "outputs": [
    {
     "name": "stdout",
     "output_type": "stream",
     "text": [
      "Above age of 10, Still not eligible to vote\n"
     ]
    }
   ],
   "source": [
    "if age >= 18 :\n",
    "    print(\"eligible\")\n",
    "elif age >= 10 :\n",
    "    print(\"Above age of 10, Still not eligible to vote\")\n",
    "else :\n",
    "    print(\"less than 10, definitely not eligible\")"
   ]
  },
  {
   "cell_type": "markdown",
   "id": "380064f8-dbec-45cf-915e-b1cfda15d3b4",
   "metadata": {},
   "source": [
    "<h4>AND OR</h4>"
   ]
  },
  {
   "cell_type": "code",
   "execution_count": 6,
   "id": "4d341cb1-0f4c-40be-b034-c64a401449b7",
   "metadata": {},
   "outputs": [
    {
     "name": "stdout",
     "output_type": "stream",
     "text": [
      "Allow\n"
     ]
    }
   ],
   "source": [
    "batch=\"python\"\n",
    "org=\"scaler\"\n",
    "\n",
    "if org==\"scaler\" and batch==\"python\" :\n",
    "    print(\"Allow\")\n",
    "else :\n",
    "    print(\"Block\")"
   ]
  },
  {
   "cell_type": "code",
   "execution_count": 12,
   "id": "244db993-522d-412d-9d43-bddcf16dc458",
   "metadata": {},
   "outputs": [
    {
     "name": "stdin",
     "output_type": "stream",
     "text": [
      " scaler\n"
     ]
    }
   ],
   "source": [
    "org=input()"
   ]
  },
  {
   "cell_type": "code",
   "execution_count": 13,
   "id": "62fd2095-d251-46cf-8812-98cb774ce661",
   "metadata": {},
   "outputs": [
    {
     "name": "stdout",
     "output_type": "stream",
     "text": [
      "Allow\n"
     ]
    }
   ],
   "source": [
    "if org==\"scaler\" or org==\"interviewbit\" :\n",
    "    print(\"Allow\")\n",
    "else :\n",
    "    print(\"Block\")"
   ]
  },
  {
   "cell_type": "markdown",
   "id": "0e21faa5-b6a0-4344-9b82-4298fc5cbdd8",
   "metadata": {},
   "source": [
    "<h3>Loops</h3>"
   ]
  },
  {
   "cell_type": "markdown",
   "id": "2698aab9-d60b-4485-970e-73e94e801f1d",
   "metadata": {},
   "source": [
    "<h3>While Loop</h3>"
   ]
  },
  {
   "cell_type": "code",
   "execution_count": 5,
   "id": "a5017d97-d470-4e2f-9e63-9e33db3b85a1",
   "metadata": {},
   "outputs": [
    {
     "name": "stdout",
     "output_type": "stream",
     "text": [
      "1 2 3 4 5 6 7 8 9 10 "
     ]
    }
   ],
   "source": [
    "# print the counting from 1 to 10.\n",
    "\n",
    "counter=1\n",
    "\n",
    "while counter <= 10 :\n",
    "    print(counter, end=' ')\n",
    "    counter = counter + 1\n",
    "    "
   ]
  },
  {
   "cell_type": "code",
   "execution_count": 7,
   "id": "278c15c6-e964-440e-93c1-bd5b28cb9023",
   "metadata": {},
   "outputs": [],
   "source": [
    "# Short hand\n",
    "a = 2\n",
    "a += 5"
   ]
  },
  {
   "cell_type": "code",
   "execution_count": 8,
   "id": "6858c98d-253b-475c-b8ce-64cdb260f489",
   "metadata": {},
   "outputs": [
    {
     "data": {
      "text/plain": [
       "7"
      ]
     },
     "execution_count": 8,
     "metadata": {},
     "output_type": "execute_result"
    }
   ],
   "source": [
    "a"
   ]
  },
  {
   "cell_type": "markdown",
   "id": "308d25e2-303a-407a-9408-e97648c206e3",
   "metadata": {},
   "source": [
    "<h4>Stair Problem</h4>"
   ]
  },
  {
   "cell_type": "raw",
   "id": "c32057b0-1fbf-4e7a-aef4-521ae52c6563",
   "metadata": {},
   "source": [
    "Output\n",
    "\n",
    "*\n",
    "**\n",
    "***\n",
    "****"
   ]
  },
  {
   "cell_type": "code",
   "execution_count": 9,
   "id": "7e043474-58b8-4771-bc77-4d008a562e76",
   "metadata": {},
   "outputs": [
    {
     "name": "stdin",
     "output_type": "stream",
     "text": [
      " 4\n"
     ]
    }
   ],
   "source": [
    "n=input()"
   ]
  },
  {
   "cell_type": "code",
   "execution_count": 10,
   "id": "66a8360a-236b-4710-8665-6ceec27b934f",
   "metadata": {},
   "outputs": [
    {
     "name": "stdout",
     "output_type": "stream",
     "text": [
      "<class 'str'>\n"
     ]
    }
   ],
   "source": [
    "print(type(n))"
   ]
  },
  {
   "cell_type": "markdown",
   "id": "e57ee1f3-12a8-4a5a-b80f-9f44e84205cf",
   "metadata": {},
   "source": [
    "input function always return string"
   ]
  },
  {
   "cell_type": "code",
   "execution_count": 11,
   "id": "b1aeb1fa-d736-4dce-a5e0-3b1f40dd807d",
   "metadata": {},
   "outputs": [
    {
     "name": "stdin",
     "output_type": "stream",
     "text": [
      " 4\n"
     ]
    }
   ],
   "source": [
    "n=int(input())"
   ]
  },
  {
   "cell_type": "code",
   "execution_count": 12,
   "id": "6db32684-be61-4959-a6dc-ec5eeba6b721",
   "metadata": {},
   "outputs": [
    {
     "name": "stdout",
     "output_type": "stream",
     "text": [
      "*\n",
      "**\n",
      "***\n",
      "****\n"
     ]
    }
   ],
   "source": [
    "i = 1\n",
    "\n",
    "while i <= n :\n",
    "    print(\"*\"*i)\n",
    "    i+=1\n",
    "    "
   ]
  },
  {
   "cell_type": "markdown",
   "id": "f7a3fe6f-e9b2-4125-8d8a-3a5ea1514051",
   "metadata": {},
   "source": [
    "<h3>Range</h3>"
   ]
  },
  {
   "cell_type": "code",
   "execution_count": 20,
   "id": "1dd06ca3-0e21-4ab8-bcdb-b5852d6ec140",
   "metadata": {},
   "outputs": [
    {
     "data": {
      "text/plain": [
       "range(0, 10)"
      ]
     },
     "execution_count": 20,
     "metadata": {},
     "output_type": "execute_result"
    }
   ],
   "source": [
    "range(10)"
   ]
  },
  {
   "cell_type": "code",
   "execution_count": 21,
   "id": "edd6acd1-1876-4f75-96ef-1d001fd48f4b",
   "metadata": {},
   "outputs": [
    {
     "data": {
      "text/plain": [
       "[0, 1, 2, 3, 4, 5, 6, 7, 8, 9]"
      ]
     },
     "execution_count": 21,
     "metadata": {},
     "output_type": "execute_result"
    }
   ],
   "source": [
    "list(range(10))"
   ]
  },
  {
   "cell_type": "markdown",
   "id": "9ccc60e2-ea88-42e0-ba2e-05772c73e5c5",
   "metadata": {},
   "source": [
    "<h3>For Loop</h3>"
   ]
  },
  {
   "cell_type": "markdown",
   "id": "6ae59b6b-50c2-4a51-80dc-702c41be58aa",
   "metadata": {},
   "source": [
    "it allow us to loop/iterate over a range"
   ]
  },
  {
   "cell_type": "code",
   "execution_count": 25,
   "id": "2f66c074-687e-4f8f-b59d-6cc22fb50f86",
   "metadata": {},
   "outputs": [],
   "source": [
    "# print square off odd numbers from 1 to 10"
   ]
  },
  {
   "cell_type": "code",
   "execution_count": 26,
   "id": "12316bbf-e180-4636-ab98-36b7aeab998e",
   "metadata": {},
   "outputs": [
    {
     "name": "stdout",
     "output_type": "stream",
     "text": [
      "1\n",
      "9\n",
      "25\n",
      "49\n",
      "81\n"
     ]
    }
   ],
   "source": [
    "for i in range(1,10,2) :\n",
    "    print(i**2)"
   ]
  },
  {
   "cell_type": "code",
   "execution_count": 27,
   "id": "976508e8-621b-4e63-ab0c-3f64239c55ba",
   "metadata": {},
   "outputs": [],
   "source": [
    "# print the cubes of all odd numbers from 10 to 1.(Reverse)"
   ]
  },
  {
   "cell_type": "code",
   "execution_count": 28,
   "id": "ff1fe0de-6878-4eec-863f-1e6328049887",
   "metadata": {},
   "outputs": [
    {
     "name": "stdout",
     "output_type": "stream",
     "text": [
      "729\n",
      "343\n",
      "125\n",
      "27\n",
      "1\n"
     ]
    }
   ],
   "source": [
    "for i in range(9,0,-2) :\n",
    "    print(i**3)"
   ]
  },
  {
   "cell_type": "code",
   "execution_count": 32,
   "id": "25c67c9c-7f34-4293-bdab-b32128189543",
   "metadata": {},
   "outputs": [
    {
     "name": "stdout",
     "output_type": "stream",
     "text": [
      "H\n",
      "e\n",
      "l\n",
      "l\n",
      "o\n"
     ]
    }
   ],
   "source": [
    "for i in \"Hello\" :\n",
    "    print(i)"
   ]
  },
  {
   "cell_type": "markdown",
   "id": "c044f251-5bec-471e-b190-7d5237002d70",
   "metadata": {},
   "source": [
    "<h4>Problem - Sum of Digits</h4>"
   ]
  },
  {
   "cell_type": "code",
   "execution_count": 41,
   "id": "313e4731-830c-4dbc-b4b1-f8eff7d490bd",
   "metadata": {},
   "outputs": [
    {
     "name": "stdout",
     "output_type": "stream",
     "text": [
      "20\n"
     ]
    }
   ],
   "source": [
    "sum = 0\n",
    "\n",
    "\n",
    "for i in \"749\" :\n",
    "    j=int(i)\n",
    "    sum=sum+j\n",
    "print(sum)\n",
    "    "
   ]
  },
  {
   "cell_type": "code",
   "execution_count": 42,
   "id": "75677625-ea79-4d6a-9fa7-2f9e224f7a51",
   "metadata": {},
   "outputs": [
    {
     "name": "stdin",
     "output_type": "stream",
     "text": [
      " 749\n"
     ]
    }
   ],
   "source": [
    "# 2nd method\n",
    "\n",
    "n=int(input())"
   ]
  },
  {
   "cell_type": "code",
   "execution_count": 43,
   "id": "4a41de17-e248-47d8-8d71-2622fec574f8",
   "metadata": {},
   "outputs": [
    {
     "name": "stdout",
     "output_type": "stream",
     "text": [
      "20\n"
     ]
    }
   ],
   "source": [
    "sum = 0\n",
    "while n>0 :\n",
    "    digit = n % 10 \n",
    "    sum = sum + digit\n",
    "    n = n // 10\n",
    "print(sum)"
   ]
  },
  {
   "cell_type": "markdown",
   "id": "e5da755c-3a4f-460f-b8f9-21cfb09e460e",
   "metadata": {},
   "source": [
    "#### Problem"
   ]
  },
  {
   "cell_type": "markdown",
   "id": "da7efa6d-f85e-4722-ac45-3dad835d259f",
   "metadata": {},
   "source": [
    "Output\n",
    "\n",
    "1 2 3 4\n",
    "1 2 3\n",
    "1 2\n",
    "1"
   ]
  },
  {
   "cell_type": "code",
   "execution_count": 46,
   "id": "19253519-017f-4dcf-a4b7-9800e49156bd",
   "metadata": {},
   "outputs": [
    {
     "ename": "SyntaxError",
     "evalue": "invalid decimal literal (3356701949.py, line 5)",
     "output_type": "error",
     "traceback": [
      "\u001b[1;36m  Cell \u001b[1;32mIn[46], line 5\u001b[1;36m\u001b[0m\n\u001b[1;33m    for j in range(i,2i-1) :\u001b[0m\n\u001b[1;37m                     ^\u001b[0m\n\u001b[1;31mSyntaxError\u001b[0m\u001b[1;31m:\u001b[0m invalid decimal literal\n"
     ]
    }
   ],
   "source": [
    "n=4\n",
    "for i in range(1,n+1) :\n",
    "    print(\"o\" * (n-i)\n",
    "    \n",
    "    for j in range(i,2i-1) :\n",
    "          print(j)\n",
    "    for j in range(2i-2,1,-1) :\n",
    "          print(j)"
   ]
  },
  {
   "cell_type": "code",
   "execution_count": null,
   "id": "c6bb69c1-8aa0-4e5f-95bb-e433624f76a8",
   "metadata": {},
   "outputs": [],
   "source": []
  }
 ],
 "metadata": {
  "kernelspec": {
   "display_name": "Python 3 (ipykernel)",
   "language": "python",
   "name": "python3"
  },
  "language_info": {
   "codemirror_mode": {
    "name": "ipython",
    "version": 3
   },
   "file_extension": ".py",
   "mimetype": "text/x-python",
   "name": "python",
   "nbconvert_exporter": "python",
   "pygments_lexer": "ipython3",
   "version": "3.10.9"
  }
 },
 "nbformat": 4,
 "nbformat_minor": 5
}
